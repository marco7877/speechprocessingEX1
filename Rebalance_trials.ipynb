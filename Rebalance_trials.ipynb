{
 "cells": [
  {
   "cell_type": "code",
   "execution_count": 1,
   "id": "0206f6f2",
   "metadata": {},
   "outputs": [],
   "source": [
    "import numpy as np\n",
    "import pandas as pd\n",
    "from itertools import chain, repeat"
   ]
  },
  {
   "cell_type": "markdown",
   "id": "c824fdbf",
   "metadata": {},
   "source": [
    "We are going to load the files with Numpy, then we are going to convert the array to a Data Frame with Pandas."
   ]
  },
  {
   "cell_type": "code",
   "execution_count": 6,
   "id": "b27e83c0",
   "metadata": {},
   "outputs": [],
   "source": [
    "#loading events: ocurrences of each type of stimuli. Stimuli position 0 is the control\n",
    "file_events=np.loadtxt(\"./MaxFe_TR1200/Speech_wordLevel20_662023-1136_nEvents.csv\", dtype=int, delimiter=\",\")\n",
    "#loading sequence: Sequence generated accordingly to the amount of events per stimuli type. Stimuli 0 is the control\n",
    "file_sequence=np.loadtxt(\"./MaxFe_TR1200/Speech_wordLevel20_662023-1136_BestList.csv\",dtype=int,delimiter=\",\")\n",
    "#We are converting the numpy arrays to a data frames\n",
    "file_events_df= pd.DataFrame(file_events)\n",
    "file_sequence_df= pd.DataFrame(file_sequence)"
   ]
  },
  {
   "cell_type": "markdown",
   "id": "1d64306c",
   "metadata": {},
   "source": [
    "Now, we are going to declare our constant variable: target number of event per condition. From there, we are going to calculate where do we have en excess of events, and where we are missing some others"
   ]
  },
  {
   "cell_type": "code",
   "execution_count": 8,
   "id": "94e8f22b",
   "metadata": {},
   "outputs": [],
   "source": [
    "#target number of events\n",
    "target_events=10\n",
    "#target type of events (with control)\n",
    "type_events=7\n",
    "file_events_df[\"identity\"]=range(type_events)\n",
    "file_events_df[\"excess\"]=file_events_df[0]-target_events\n",
    "#find which events are missing\n",
    "missing_boolean=file_events_df[\"excess\"]<0\n",
    "file_events_df[\"missing\"]=missing_boolean*(-file_events_df[\"excess\"])\n",
    "types_with_missingEvents=file_events_df[\"identity\"]*missing_boolean\n",
    "#find which events are in excess\n",
    "excess_boolean=file_events_df[\"excess\"]>0\n",
    "if sum(excess_boolean)>1:\n",
    "    print(\"We are having an exception we had no yet covered, do not trust the result of this\")\n"
   ]
  },
  {
   "cell_type": "code",
   "execution_count": 13,
   "id": "91c09d6f",
   "metadata": {},
   "outputs": [],
   "source": [
    "# The trial elements that have an axcess of ocurrences\n",
    "list_identity_excess= file_events_df.identity[excess_boolean].tolist()\n",
    "# The trial elements that miss ocurrences\n",
    "list_identity_missing= file_events_df.identity[missing_boolean].tolist()\n",
    "# The amount of times that each element is miss represented\n",
    "list_times_missing= file_events_df.missing[missing_boolean].tolist()\n",
    "list_times_excess= file_events_df.excess[excess_boolean].tolist()"
   ]
  },
  {
   "cell_type": "markdown",
   "id": "dda83a71",
   "metadata": {},
   "source": [
    "Now we are going to make a new list that repeats the elements that are miss represented (list_identity_missing) and repeats each one of them as many times as it is missing (list_times)"
   ]
  },
  {
   "cell_type": "code",
   "execution_count": 26,
   "id": "8c55d647",
   "metadata": {},
   "outputs": [],
   "source": [
    "#change elements identity as required times \n",
    "list_missing = list(chain.from_iterable(repeat(j, times = i) for i, j in zip(list_times_missing, list_identity_missing)))\n",
    "# make list of element in excess ¡¡This only works for excess in control!!\n",
    "list_excess=list(chain.from_iterable(repeat(j, times = i+target_events) for i, j in zip(list_times_excess, list_identity_excess)))\n",
    "# We are making a new list of elements that takes out the \n",
    "# excess of events and convert them to the missing ones that are needed\n",
    "list_excess[0:len(list_missing)]=list_missing"
   ]
  },
  {
   "cell_type": "markdown",
   "id": "f9f3c79d",
   "metadata": {},
   "source": [
    "Now we are going to make a mask over the sequence to find the excess trials. Then, we are going to replace such a list with our new balanced one"
   ]
  },
  {
   "cell_type": "code",
   "execution_count": 27,
   "id": "45739ad1",
   "metadata": {},
   "outputs": [
    {
     "data": {
      "text/plain": [
       "[0, 0, 0, 0, 0, 0, 0, 0, 0, 0, 0, 0, 0, 0]"
      ]
     },
     "execution_count": 27,
     "metadata": {},
     "output_type": "execute_result"
    }
   ],
   "source": [
    "## defining the mask I am assuming that we only have an excess of \n",
    "## control trials\n"
   ]
  },
  {
   "cell_type": "code",
   "execution_count": 28,
   "id": "3642e598",
   "metadata": {},
   "outputs": [
    {
     "data": {
      "text/plain": [
       "[2, 2, 3, 4, 5, 0, 0, 0, 0, 0, 0, 0, 0, 0]"
      ]
     },
     "execution_count": 28,
     "metadata": {},
     "output_type": "execute_result"
    }
   ],
   "source": []
  }
 ],
 "metadata": {
  "kernelspec": {
   "display_name": "Python 3",
   "language": "python",
   "name": "python3"
  },
  "language_info": {
   "codemirror_mode": {
    "name": "ipython",
    "version": 3
   },
   "file_extension": ".py",
   "mimetype": "text/x-python",
   "name": "python",
   "nbconvert_exporter": "python",
   "pygments_lexer": "ipython3",
   "version": "3.6.13"
  }
 },
 "nbformat": 4,
 "nbformat_minor": 5
}
