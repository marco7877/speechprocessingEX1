{
 "cells": [
  {
   "cell_type": "code",
   "execution_count": 2,
   "metadata": {},
   "outputs": [],
   "source": [
    "import pandas as pd\n",
    "import numpy as np"
   ]
  },
  {
   "cell_type": "code",
   "execution_count": 14,
   "metadata": {},
   "outputs": [
    {
     "name": "stdout",
     "output_type": "stream",
     "text": [
      "    2\n",
      "0   5\n",
      "1   1\n",
      "2   2\n",
      "3   6\n",
      "4   0\n",
      ".. ..\n",
      "64  5\n",
      "65  0\n",
      "66  3\n",
      "67  6\n",
      "68  0\n",
      "\n",
      "[69 rows x 1 columns]\n"
     ]
    }
   ],
   "source": [
    "### opening the files we are using\n",
    "# - sequence list\n",
    "SequenceList=pd.read_csv(\"./sequences/Speech_wordLevel 7 4242023-1637 _BestList.csv\",sep=\",\")\n",
    "# - events list\n",
    "EventsList=pd.read_csv(\"./sequences/Speech_wordLevel 7 4242023-1637 _nEvents.csv\")\n",
    "EventsList_df=pd.DataFrame(EventsList)\n",
    "EventsList_df=EventsList_df.round()\n",
    "print(SequenceList)"
   ]
  }
 ],
 "metadata": {
  "kernelspec": {
   "display_name": "Python 3",
   "language": "python",
   "name": "python3"
  },
  "language_info": {
   "codemirror_mode": {
    "name": "ipython",
    "version": 3
   },
   "file_extension": ".py",
   "mimetype": "text/x-python",
   "name": "python",
   "nbconvert_exporter": "python",
   "pygments_lexer": "ipython3",
   "version": "3.7.4"
  }
 },
 "nbformat": 4,
 "nbformat_minor": 2
}
